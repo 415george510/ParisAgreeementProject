{
 "cells": [
  {
   "cell_type": "markdown",
   "metadata": {},
   "source": [
    "# US Energy Expenditures Data"
   ]
  },
  {
   "cell_type": "code",
   "execution_count": 1,
   "metadata": {},
   "outputs": [],
   "source": [
    "# Dependencies\n",
    "\n",
    "import pandas as pd\n",
    "import numpy as np\n",
    "import matplotlib.pyplot as plt\n",
    "from datetime import datetime\n",
    "from matplotlib.pyplot import figure\n",
    "import datetime as dt\n",
    "from scipy.stats import linregress\n",
    "import matplotlib.image as mpimg\n",
    "from PIL import Image"
   ]
  },
  {
   "cell_type": "markdown",
   "metadata": {},
   "source": [
    "## Reading, Cleaning, Splitting, Changing Data Types, and Creating Dataframes (US Energy Expenditures)"
   ]
  },
  {
   "cell_type": "code",
   "execution_count": 2,
   "metadata": {},
   "outputs": [],
   "source": [
    "# Declaring Variable Names for Energy Data CSV file.\n",
    "\n",
    "EnergyData = 'Energy_Consumption_by_Source.csv'"
   ]
  },
  {
   "cell_type": "code",
   "execution_count": 3,
   "metadata": {},
   "outputs": [],
   "source": [
    "# from sample code from 'pandas_reading_files' example in Pandas Activities\n",
    "# Creating a data framed for Energy Data called 'EnergyDataFrame'\n",
    "\n",
    "EnergyDataFrameRaw = pd.read_csv(EnergyData)"
   ]
  },
  {
   "cell_type": "code",
   "execution_count": 4,
   "metadata": {},
   "outputs": [],
   "source": [
    "# Cleaning up data by selecting key lists in panda and check clean up.\n",
    "\n",
    "EnergyDataFrame = EnergyDataFrameRaw[[\"YYYYMM\",\"Description\",\"Value\",\"Unit\"]]"
   ]
  },
  {
   "cell_type": "code",
   "execution_count": 5,
   "metadata": {},
   "outputs": [
    {
     "data": {
      "text/html": [
       "<div>\n",
       "<style scoped>\n",
       "    .dataframe tbody tr th:only-of-type {\n",
       "        vertical-align: middle;\n",
       "    }\n",
       "\n",
       "    .dataframe tbody tr th {\n",
       "        vertical-align: top;\n",
       "    }\n",
       "\n",
       "    .dataframe thead th {\n",
       "        text-align: right;\n",
       "    }\n",
       "</style>\n",
       "<table border=\"1\" class=\"dataframe\">\n",
       "  <thead>\n",
       "    <tr style=\"text-align: right;\">\n",
       "      <th></th>\n",
       "      <th>Year</th>\n",
       "      <th>Energy Source</th>\n",
       "      <th>Value</th>\n",
       "      <th>Unit</th>\n",
       "    </tr>\n",
       "  </thead>\n",
       "  <tbody>\n",
       "    <tr>\n",
       "      <th>0</th>\n",
       "      <td>194913</td>\n",
       "      <td>Coal Consumption</td>\n",
       "      <td>11.980905</td>\n",
       "      <td>Quadrillion Btu</td>\n",
       "    </tr>\n",
       "    <tr>\n",
       "      <th>1</th>\n",
       "      <td>195013</td>\n",
       "      <td>Coal Consumption</td>\n",
       "      <td>12.347109</td>\n",
       "      <td>Quadrillion Btu</td>\n",
       "    </tr>\n",
       "    <tr>\n",
       "      <th>2</th>\n",
       "      <td>195113</td>\n",
       "      <td>Coal Consumption</td>\n",
       "      <td>12.552996</td>\n",
       "      <td>Quadrillion Btu</td>\n",
       "    </tr>\n",
       "    <tr>\n",
       "      <th>3</th>\n",
       "      <td>195213</td>\n",
       "      <td>Coal Consumption</td>\n",
       "      <td>11.306479</td>\n",
       "      <td>Quadrillion Btu</td>\n",
       "    </tr>\n",
       "    <tr>\n",
       "      <th>4</th>\n",
       "      <td>195313</td>\n",
       "      <td>Coal Consumption</td>\n",
       "      <td>11.372684</td>\n",
       "      <td>Quadrillion Btu</td>\n",
       "    </tr>\n",
       "  </tbody>\n",
       "</table>\n",
       "</div>"
      ],
      "text/plain": [
       "     Year     Energy Source      Value             Unit\n",
       "0  194913  Coal Consumption  11.980905  Quadrillion Btu\n",
       "1  195013  Coal Consumption  12.347109  Quadrillion Btu\n",
       "2  195113  Coal Consumption  12.552996  Quadrillion Btu\n",
       "3  195213  Coal Consumption  11.306479  Quadrillion Btu\n",
       "4  195313  Coal Consumption  11.372684  Quadrillion Btu"
      ]
     },
     "execution_count": 5,
     "metadata": {},
     "output_type": "execute_result"
    }
   ],
   "source": [
    "#Rename columns\n",
    "EnergyDataFrame.rename(columns={\"YYYYMM\":\"Year\", \"Description\":\"Energy Source\"}).head()"
   ]
  },
  {
   "cell_type": "code",
   "execution_count": 6,
   "metadata": {},
   "outputs": [
    {
     "name": "stderr",
     "output_type": "stream",
     "text": [
      "/Users/George/anaconda3/envs/PythonData/lib/python3.6/site-packages/ipykernel_launcher.py:3: SettingWithCopyWarning: \n",
      "A value is trying to be set on a copy of a slice from a DataFrame.\n",
      "Try using .loc[row_indexer,col_indexer] = value instead\n",
      "\n",
      "See the caveats in the documentation: http://pandas.pydata.org/pandas-docs/stable/user_guide/indexing.html#returning-a-view-versus-a-copy\n",
      "  This is separate from the ipykernel package so we can avoid doing imports until\n"
     ]
    },
    {
     "data": {
      "text/html": [
       "<div>\n",
       "<style scoped>\n",
       "    .dataframe tbody tr th:only-of-type {\n",
       "        vertical-align: middle;\n",
       "    }\n",
       "\n",
       "    .dataframe tbody tr th {\n",
       "        vertical-align: top;\n",
       "    }\n",
       "\n",
       "    .dataframe thead th {\n",
       "        text-align: right;\n",
       "    }\n",
       "</style>\n",
       "<table border=\"1\" class=\"dataframe\">\n",
       "  <thead>\n",
       "    <tr style=\"text-align: right;\">\n",
       "      <th></th>\n",
       "      <th>YYYYMM</th>\n",
       "      <th>Description</th>\n",
       "      <th>Value</th>\n",
       "      <th>Unit</th>\n",
       "      <th>Year</th>\n",
       "      <th>month</th>\n",
       "    </tr>\n",
       "  </thead>\n",
       "  <tbody>\n",
       "    <tr>\n",
       "      <th>0</th>\n",
       "      <td>194913</td>\n",
       "      <td>Coal Consumption</td>\n",
       "      <td>11.980905</td>\n",
       "      <td>Quadrillion Btu</td>\n",
       "      <td>1949</td>\n",
       "      <td>13</td>\n",
       "    </tr>\n",
       "    <tr>\n",
       "      <th>1</th>\n",
       "      <td>195013</td>\n",
       "      <td>Coal Consumption</td>\n",
       "      <td>12.347109</td>\n",
       "      <td>Quadrillion Btu</td>\n",
       "      <td>1950</td>\n",
       "      <td>13</td>\n",
       "    </tr>\n",
       "    <tr>\n",
       "      <th>2</th>\n",
       "      <td>195113</td>\n",
       "      <td>Coal Consumption</td>\n",
       "      <td>12.552996</td>\n",
       "      <td>Quadrillion Btu</td>\n",
       "      <td>1951</td>\n",
       "      <td>13</td>\n",
       "    </tr>\n",
       "    <tr>\n",
       "      <th>3</th>\n",
       "      <td>195213</td>\n",
       "      <td>Coal Consumption</td>\n",
       "      <td>11.306479</td>\n",
       "      <td>Quadrillion Btu</td>\n",
       "      <td>1952</td>\n",
       "      <td>13</td>\n",
       "    </tr>\n",
       "    <tr>\n",
       "      <th>4</th>\n",
       "      <td>195313</td>\n",
       "      <td>Coal Consumption</td>\n",
       "      <td>11.372684</td>\n",
       "      <td>Quadrillion Btu</td>\n",
       "      <td>1953</td>\n",
       "      <td>13</td>\n",
       "    </tr>\n",
       "  </tbody>\n",
       "</table>\n",
       "</div>"
      ],
      "text/plain": [
       "   YYYYMM       Description      Value             Unit  Year month\n",
       "0  194913  Coal Consumption  11.980905  Quadrillion Btu  1949    13\n",
       "1  195013  Coal Consumption  12.347109  Quadrillion Btu  1950    13\n",
       "2  195113  Coal Consumption  12.552996  Quadrillion Btu  1951    13\n",
       "3  195213  Coal Consumption  11.306479  Quadrillion Btu  1952    13\n",
       "4  195313  Coal Consumption  11.372684  Quadrillion Btu  1953    13"
      ]
     },
     "execution_count": 6,
     "metadata": {},
     "output_type": "execute_result"
    }
   ],
   "source": [
    "# Split year from month and check for correct splitting.\n",
    "u = EnergyDataFrame['YYYYMM'].astype(str)\n",
    "EnergyDataFrame['Year'], EnergyDataFrame['month'] = u.str[:-2], u.str[-2:]\n",
    "EnergyDataFrame.head()\n"
   ]
  },
  {
   "cell_type": "code",
   "execution_count": 7,
   "metadata": {},
   "outputs": [],
   "source": [
    "# EnergyDataFrame['Value'] = EnergyDataFrame['Value'].astype(float)\n",
    "\n",
    "EnergyDataFrame['Value'] = pd.to_numeric(EnergyDataFrame['Value'],errors='coerce')\n",
    "EnergyDataFrame['Year'] = pd.to_numeric(EnergyDataFrame['Year'],errors='coerce')"
   ]
  },
  {
   "cell_type": "code",
   "execution_count": 8,
   "metadata": {},
   "outputs": [
    {
     "data": {
      "text/plain": [
       "YYYYMM           int64\n",
       "Description     object\n",
       "Value          float64\n",
       "Unit            object\n",
       "Year             int64\n",
       "month           object\n",
       "dtype: object"
      ]
     },
     "execution_count": 8,
     "metadata": {},
     "output_type": "execute_result"
    }
   ],
   "source": [
    "EnergyDataFrame.dtypes"
   ]
  },
  {
   "cell_type": "code",
   "execution_count": 9,
   "metadata": {},
   "outputs": [],
   "source": [
    "# Create new dataframe\n",
    "EnergyPanda = EnergyDataFrame[['month','Year','Description','Value','Unit']]"
   ]
  },
  {
   "cell_type": "code",
   "execution_count": 10,
   "metadata": {
    "scrolled": true
   },
   "outputs": [
    {
     "name": "stderr",
     "output_type": "stream",
     "text": [
      "/Users/George/anaconda3/envs/PythonData/lib/python3.6/site-packages/ipykernel_launcher.py:4: SettingWithCopyWarning: \n",
      "A value is trying to be set on a copy of a slice from a DataFrame.\n",
      "Try using .loc[row_indexer,col_indexer] = value instead\n",
      "\n",
      "See the caveats in the documentation: http://pandas.pydata.org/pandas-docs/stable/user_guide/indexing.html#returning-a-view-versus-a-copy\n",
      "  after removing the cwd from sys.path.\n"
     ]
    }
   ],
   "source": [
    "#Change datatype of month so it may be used to select yearly data\n",
    "#Yearly data is denoted by 13\n",
    "\n",
    "EnergyPanda['month'] = pd.to_numeric(EnergyPanda['month'])\n"
   ]
  },
  {
   "cell_type": "code",
   "execution_count": 11,
   "metadata": {},
   "outputs": [
    {
     "data": {
      "text/plain": [
       "month            int64\n",
       "Year             int64\n",
       "Description     object\n",
       "Value          float64\n",
       "Unit            object\n",
       "dtype: object"
      ]
     },
     "execution_count": 11,
     "metadata": {},
     "output_type": "execute_result"
    }
   ],
   "source": [
    "EnergyPanda.dtypes"
   ]
  },
  {
   "cell_type": "code",
   "execution_count": 12,
   "metadata": {},
   "outputs": [
    {
     "data": {
      "text/plain": [
       "Year             int64\n",
       "Description     object\n",
       "Energy         float64\n",
       "dtype: object"
      ]
     },
     "execution_count": 12,
     "metadata": {},
     "output_type": "execute_result"
    }
   ],
   "source": [
    "# Create and format EnergyPandaByYear\n",
    "EnergyPandaByYear = EnergyPanda.loc[EnergyPanda['month'] == 13,:]\n",
    "del EnergyPandaByYear['month']\n",
    "del EnergyPandaByYear['Unit']\n",
    "EnergyPandaByYear = EnergyPandaByYear.rename(columns={'Value': 'Energy'})\n",
    "EnergyPandaByYear.dtypes"
   ]
  },
  {
   "cell_type": "code",
   "execution_count": 13,
   "metadata": {},
   "outputs": [],
   "source": [
    "# Drop all rows with missing information\n",
    "EnergyPandaByYear = EnergyPandaByYear.dropna(how='any')"
   ]
  },
  {
   "cell_type": "markdown",
   "metadata": {},
   "source": [
    "## Analyzing and Visualizing Data (US Energy Expenditures)"
   ]
  },
  {
   "cell_type": "markdown",
   "metadata": {},
   "source": [
    "### US Energy From Coal Consumption"
   ]
  },
  {
   "cell_type": "code",
   "execution_count": 14,
   "metadata": {},
   "outputs": [],
   "source": [
    "EnergyPandaByYearForCoal = EnergyPandaByYear.loc[EnergyPandaByYear['Description'] == 'Coal Consumption',:]\n",
    "del EnergyPandaByYearForCoal['Description']"
   ]
  },
  {
   "cell_type": "code",
   "execution_count": 15,
   "metadata": {},
   "outputs": [],
   "source": [
    "# Set data\n",
    "\n",
    "CoalX = EnergyPandaByYearForCoal.Year\n",
    "CoalY = EnergyPandaByYearForCoal.Energy"
   ]
  },
  {
   "cell_type": "code",
   "execution_count": 16,
   "metadata": {},
   "outputs": [
    {
     "data": {
      "image/png": "[encoded data removed]",
      "text/plain": [
       "<Figure size 432x288 with 1 Axes>"
      ]
     },
     "metadata": {
      "needs_background": "light"
     },
     "output_type": "display_data"
    }
   ],
   "source": [
    "# Draw 'best fit line' for energy from coal consumption\n",
    "\n",
    "stats = linregress(CoalX, CoalY)\n",
    "\n",
    "m = stats.slope\n",
    "b = stats.intercept\n",
    "\n",
    "plt.scatter(CoalX, CoalY)\n",
    "plt.plot(CoalX, m * CoalX + b, color=\"red\")  \n",
    "plt.savefig(\"EnergyFromCoalProjections.png\")"
   ]
  },
  {
   "cell_type": "markdown",
   "metadata": {},
   "source": [
    "### US Energy From Natural Gas Consumption"
   ]
  },
  {
   "cell_type": "code",
   "execution_count": 17,
   "metadata": {},
   "outputs": [],
   "source": [
    "EnergyPandaByYearForNaturalGas = EnergyPandaByYear.loc[EnergyPandaByYear['Description'] == 'Natural Gas Consumption (Excluding Supplemental Gaseous Fuels)',:]\n",
    "del EnergyPandaByYearForNaturalGas['Description']"
   ]
  },
  {
   "cell_type": "code",
   "execution_count": 18,
   "metadata": {},
   "outputs": [],
   "source": [
    "# Set data\n",
    "\n",
    "NaturalGasX = EnergyPandaByYearForNaturalGas.Year\n",
    "NaturalGasY = EnergyPandaByYearForNaturalGas.Energy"
   ]
  },
  {
   "cell_type": "code",
   "execution_count": 19,
   "metadata": {},
   "outputs": [
    {
     "data": {
      "image/png": "[encoded data removed]",
      "text/plain": [
       "<Figure size 432x288 with 1 Axes>"
      ]
     },
     "metadata": {
      "needs_background": "light"
     },
     "output_type": "display_data"
    }
   ],
   "source": [
    "# Draw 'best fit line' for energy from natural gas consumption\n",
    "\n",
    "stats = linregress(NaturalGasX, NaturalGasY)\n",
    "\n",
    "m = stats.slope\n",
    "b = stats.intercept\n",
    "\n",
    "plt.scatter(NaturalGasX, NaturalGasY)\n",
    "plt.plot(NaturalGasX, m * NaturalGasX + b, color=\"red\")\n",
    "plt.ylabel(\"Quadrillion Btu\")\n",
    "plt.xlabel(\"Year\")\n",
    "plt.title(\"US Energy From Natural Gas Consumption\")\n",
    "plt.savefig(\"EnergyFromNaturalGasProjections.png\")\n"
   ]
  },
  {
   "cell_type": "markdown",
   "metadata": {},
   "source": [
    "### US Energy From Petroleum Consumption"
   ]
  },
  {
   "cell_type": "code",
   "execution_count": 20,
   "metadata": {
    "scrolled": true
   },
   "outputs": [
    {
     "data": {
      "text/html": [
       "<div>\n",
       "<style scoped>\n",
       "    .dataframe tbody tr th:only-of-type {\n",
       "        vertical-align: middle;\n",
       "    }\n",
       "\n",
       "    .dataframe tbody tr th {\n",
       "        vertical-align: top;\n",
       "    }\n",
       "\n",
       "    .dataframe thead th {\n",
       "        text-align: right;\n",
       "    }\n",
       "</style>\n",
       "<table border=\"1\" class=\"dataframe\">\n",
       "  <thead>\n",
       "    <tr style=\"text-align: right;\">\n",
       "      <th></th>\n",
       "      <th>Year</th>\n",
       "      <th>Energy</th>\n",
       "    </tr>\n",
       "  </thead>\n",
       "  <tbody>\n",
       "    <tr>\n",
       "      <th>1256</th>\n",
       "      <td>1949</td>\n",
       "      <td>11.882722</td>\n",
       "    </tr>\n",
       "    <tr>\n",
       "      <th>1257</th>\n",
       "      <td>1950</td>\n",
       "      <td>13.315484</td>\n",
       "    </tr>\n",
       "    <tr>\n",
       "      <th>1258</th>\n",
       "      <td>1951</td>\n",
       "      <td>14.428043</td>\n",
       "    </tr>\n",
       "    <tr>\n",
       "      <th>1259</th>\n",
       "      <td>1952</td>\n",
       "      <td>14.955682</td>\n",
       "    </tr>\n",
       "    <tr>\n",
       "      <th>1260</th>\n",
       "      <td>1953</td>\n",
       "      <td>15.555829</td>\n",
       "    </tr>\n",
       "  </tbody>\n",
       "</table>\n",
       "</div>"
      ],
      "text/plain": [
       "      Year     Energy\n",
       "1256  1949  11.882722\n",
       "1257  1950  13.315484\n",
       "1258  1951  14.428043\n",
       "1259  1952  14.955682\n",
       "1260  1953  15.555829"
      ]
     },
     "execution_count": 20,
     "metadata": {},
     "output_type": "execute_result"
    }
   ],
   "source": [
    "EnergyPandaByYearForPetro = EnergyPandaByYear.loc[EnergyPandaByYear['Description'] == 'Petroleum Consumption (Excluding Biofuels)',:]\n",
    "del EnergyPandaByYearForPetro['Description']\n",
    "EnergyPandaByYearForPetro.head()"
   ]
  },
  {
   "cell_type": "code",
   "execution_count": 21,
   "metadata": {},
   "outputs": [],
   "source": [
    "# Set data\n",
    "\n",
    "PetroX = EnergyPandaByYearForPetro.Year\n",
    "PetroY = EnergyPandaByYearForPetro.Energy"
   ]
  },
  {
   "cell_type": "code",
   "execution_count": 22,
   "metadata": {},
   "outputs": [
    {
     "data": {
      "image/png": "[encoded data removed]",
      "text/plain": [
       "<Figure size 432x288 with 1 Axes>"
      ]
     },
     "metadata": {
      "needs_background": "light"
     },
     "output_type": "display_data"
    }
   ],
   "source": [
    "# Draw 'best fit line' for energy from petroleum consumption\n",
    "\n",
    "stats = linregress(PetroX, PetroY)\n",
    "\n",
    "m = stats.slope\n",
    "b = stats.intercept\n",
    "\n",
    "plt.scatter(PetroX, PetroY)\n",
    "plt.plot(PetroX, m * PetroX + b, color=\"red\")\n",
    "plt.ylabel(\"Quadrillion Btu\")\n",
    "plt.xlabel(\"Year\")\n",
    "plt.title(\"US Energy From Petroleum Consumption\")\n",
    "\n",
    "plt.savefig(\"EnergyFromPetroProjections.png\")"
   ]
  },
  {
   "cell_type": "markdown",
   "metadata": {},
   "source": [
    "### US Energy From All Energy Sources"
   ]
  },
  {
   "cell_type": "code",
   "execution_count": 50,
   "metadata": {},
   "outputs": [],
   "source": [
    "EnergyPandaByYearTotal = EnergyPandaByYear.loc[EnergyPandaByYear['Description'] == 'Total Primary Energy Consumption',:]\n",
    "del EnergyPandaByYearTotal['Description']"
   ]
  },
  {
   "cell_type": "code",
   "execution_count": 51,
   "metadata": {},
   "outputs": [],
   "source": [
    "# Set data\n",
    "\n",
    "TotalX = EnergyPandaByYearTotal.Year\n",
    "TotalY = EnergyPandaByYearTotal.Energy"
   ]
  },
  {
   "cell_type": "code",
   "execution_count": 52,
   "metadata": {},
   "outputs": [
    {
     "data": {
      "image/png": "[encoded data removed]",
      "text/plain": [
       "<Figure size 432x288 with 1 Axes>"
      ]
     },
     "metadata": {
      "needs_background": "light"
     },
     "output_type": "display_data"
    }
   ],
   "source": [
    "# Draw 'best fit line' for total energy \n",
    "\n",
    "stats = linregress(TotalX, TotalY)\n",
    "\n",
    "m = stats.slope\n",
    "b = stats.intercept\n",
    "\n",
    "plt.scatter(TotalX, TotalY)\n",
    "plt.plot(TotalX, m * TotalX + b, color=\"red\")  \n",
    "plt.ylabel(\"Quadrillion Btu\")\n",
    "plt.xlabel(\"Year\")\n",
    "plt.title(\"US Energy From All Sources\")\n",
    "\n",
    "plt.savefig(\"TotalEnergyProjections.png\")"
   ]
  },
  {
   "cell_type": "code",
   "execution_count": 53,
   "metadata": {},
   "outputs": [
    {
     "name": "stdout",
     "output_type": "stream",
     "text": [
      "1.0274362255445715\n",
      "-1962.9346701533718\n"
     ]
    }
   ],
   "source": [
    "print(m)\n",
    "print(b)"
   ]
  },
  {
   "cell_type": "code",
   "execution_count": 23,
   "metadata": {},
   "outputs": [
    {
     "name": "stdout",
     "output_type": "stream",
     "text": [
      "44.13510905098417\n"
     ]
    }
   ],
   "source": [
    "y=(m*2025)+b\n",
    "print(y)"
   ]
  },
  {
   "cell_type": "code",
   "execution_count": null,
   "metadata": {},
   "outputs": [],
   "source": []
  }
 ],
 "metadata": {
  "celltoolbar": "Raw Cell Format",
  "kernelspec": {
   "display_name": "Python 3",
   "language": "python",
   "name": "python3"
  },
  "language_info": {
   "codemirror_mode": {
    "name": "ipython",
    "version": 3
   },
   "file_extension": ".py",
   "mimetype": "text/x-python",
   "name": "python",
   "nbconvert_exporter": "python",
   "pygments_lexer": "ipython3",
   "version": "3.6.9"
  }
 },
 "nbformat": 4,
 "nbformat_minor": 2
}
